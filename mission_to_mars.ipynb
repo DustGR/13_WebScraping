{
 "cells": [
  {
   "cell_type": "code",
   "execution_count": 2,
   "metadata": {},
   "outputs": [],
   "source": [
    "from bs4 import BeautifulSoup as bs\n",
    "import pandas as pd\n",
    "import requests\n",
    "from splinter import Browser\n",
    "import time\n",
    "\n",
    "##Set up the chromedriver browser\n",
    "executable_path = {'executable_path': 'chromedriver.exe'}\n",
    "browser = Browser(\"chrome\", **executable_path, headless=False)"
   ]
  },
  {
   "cell_type": "markdown",
   "metadata": {},
   "source": [
    "## Nasa.gov News"
   ]
  },
  {
   "cell_type": "code",
   "execution_count": 2,
   "metadata": {
    "scrolled": true
   },
   "outputs": [],
   "source": [
    "\n",
    "##Requests.get doesn't seem to return the latest articles, they may be loaded by Javascript\n",
    "##Chromedriver will be used instead.\n",
    "browser.visit('https://mars.nasa.gov/news/') #send it to the URL\n",
    "time.sleep(3) #Wait for loading\n",
    "mnews_html = browser.html #get the HTML\n",
    "nasa_soup = bs(mnews_html, \"html.parser\") #Parse the HTML into soup"
   ]
  },
  {
   "cell_type": "code",
   "execution_count": 3,
   "metadata": {},
   "outputs": [
    {
     "name": "stdout",
     "output_type": "stream",
     "text": [
      "NASA to Host Media Call on Next Mars Landing Site\n",
      "NASA will host a media teleconference at 9 a.m. PST (noon EST) Monday, Nov. 19, to provide details about the Mars 2020 rover’s landing site on the Red Planet.\n"
     ]
    }
   ],
   "source": [
    "## Each article is in a li with class 'slide', we only need the first one.\n",
    "latestnews=nasa_soup.find('li', class_='slide')\n",
    "news_title=latestnews.find('div', class_='content_title').get_text()\n",
    "news_text=latestnews.find('div', class_='article_teaser_body').get_text()\n",
    "print(f'{news_title}\\n{news_text}')"
   ]
  },
  {
   "cell_type": "markdown",
   "metadata": {},
   "source": [
    "## JPL Images"
   ]
  },
  {
   "cell_type": "code",
   "execution_count": 3,
   "metadata": {},
   "outputs": [],
   "source": [
    "#We can get the data from the JPL space images site with requests.get but the directions ask for splinter/chromedriver\n",
    "jpl_url = 'https://www.jpl.nasa.gov'\n",
    "jpl_search = '/spaceimages/?search=&category=Mars'\n",
    "browser.visit(f'{jpl_url}{jpl_search}')\n",
    "time.sleep(3)\n",
    "jpl_html = browser.html\n",
    "jpl_soup = bs(jpl_html, \"html.parser\")\n"
   ]
  },
  {
   "cell_type": "code",
   "execution_count": 4,
   "metadata": {},
   "outputs": [
    {
     "name": "stdout",
     "output_type": "stream",
     "text": [
      "Dwarf Galaxy Spotted\n",
      "https://www.jpl.nasa.gov/spaceimages/images/wallpaper/PIA16613-1920x1200.jpg\n"
     ]
    }
   ],
   "source": [
    "#The featued image is in a section with class 'main_feature'\n",
    "#The URL is listed in the article tag's style key, in the format:\n",
    "#\"background-image: url('/spaceimages/images/wallpaper/PIA19964-1920x1200.jpg');\"\n",
    "img_style = jpl_soup.find('section', class_='main_feature').article['style']\n",
    "\n",
    "img_loc = img_style.find('url') #runs through the text string to find the character position where 'url' is listed\n",
    "img_loc += len(\"url('\") #skip past the part of the string that says url('\n",
    "img_end = len(img_style) - len(\"');\") #stop before the part of the string that says ');\n",
    "img_url = jpl_url + img_style[img_loc:img_end] \n",
    "#img_style[img_loc:img_end] slices out the URL part of the string based on character positions found in the last two lines - then we append the JPL base URL, since the HTML lists a relative URL\n",
    "\n",
    "img_title = jpl_soup.find('section', class_='main_feature').article['alt'] #gets the alt text, which appears to always be the title of the image\n",
    "\n",
    "print(f'{img_title}\\n{img_url}')"
   ]
  },
  {
   "cell_type": "markdown",
   "metadata": {},
   "source": [
    "## Weather"
   ]
  },
  {
   "cell_type": "code",
   "execution_count": 11,
   "metadata": {},
   "outputs": [
    {
     "data": {
      "text/plain": [
       "<Response [200]>"
      ]
     },
     "execution_count": 11,
     "metadata": {},
     "output_type": "execute_result"
    }
   ],
   "source": [
    "weather_html = requests.get('https://twitter.com/marswxreport?lang=en') \n",
    "#twitter lets us get the html through requests.get() so let's do that"
   ]
  },
  {
   "cell_type": "code",
   "execution_count": 10,
   "metadata": {},
   "outputs": [
    {
     "data": {
      "text/plain": [
       "'Sol 2229 (2018-11-13), high -2C/28F, low -71C/-95F, pressure at 8.62 hPa, daylight 06:22-18:39'"
      ]
     },
     "execution_count": 10,
     "metadata": {},
     "output_type": "execute_result"
    }
   ],
   "source": [
    "twit_soup = bs(weather_html.text, \"html.parser\") #pass HTML to soup\n",
    "weather=twit_soup.find('div', class_='js-tweet-text-container').get_text() #This will get only the latest tweet\n",
    "weather=weather.replace('\\n','') #strip out newline characters\n",
    "weather"
   ]
  },
  {
   "cell_type": "markdown",
   "metadata": {},
   "source": [
    "## Space-facts.com table"
   ]
  },
  {
   "cell_type": "code",
   "execution_count": 6,
   "metadata": {},
   "outputs": [],
   "source": [
    "#Only one table is returned\n",
    "mfacts_df = pd.read_html('https://space-facts.com/mars/')[0]\n"
   ]
  },
  {
   "cell_type": "code",
   "execution_count": 8,
   "metadata": {},
   "outputs": [
    {
     "data": {
      "text/html": [
       "<div>\n",
       "<style scoped>\n",
       "    .dataframe tbody tr th:only-of-type {\n",
       "        vertical-align: middle;\n",
       "    }\n",
       "\n",
       "    .dataframe tbody tr th {\n",
       "        vertical-align: top;\n",
       "    }\n",
       "\n",
       "    .dataframe thead th {\n",
       "        text-align: right;\n",
       "    }\n",
       "</style>\n",
       "<table border=\"1\" class=\"dataframe\">\n",
       "  <thead>\n",
       "    <tr style=\"text-align: right;\">\n",
       "      <th></th>\n",
       "      <th>0</th>\n",
       "      <th>1</th>\n",
       "    </tr>\n",
       "  </thead>\n",
       "  <tbody>\n",
       "    <tr>\n",
       "      <th>0</th>\n",
       "      <td>Equatorial Diameter:</td>\n",
       "      <td>6,792 km</td>\n",
       "    </tr>\n",
       "    <tr>\n",
       "      <th>1</th>\n",
       "      <td>Polar Diameter:</td>\n",
       "      <td>6,752 km</td>\n",
       "    </tr>\n",
       "    <tr>\n",
       "      <th>2</th>\n",
       "      <td>Mass:</td>\n",
       "      <td>6.42 x 10^23 kg (10.7% Earth)</td>\n",
       "    </tr>\n",
       "    <tr>\n",
       "      <th>3</th>\n",
       "      <td>Moons:</td>\n",
       "      <td>2 (Phobos &amp; Deimos)</td>\n",
       "    </tr>\n",
       "    <tr>\n",
       "      <th>4</th>\n",
       "      <td>Orbit Distance:</td>\n",
       "      <td>227,943,824 km (1.52 AU)</td>\n",
       "    </tr>\n",
       "    <tr>\n",
       "      <th>5</th>\n",
       "      <td>Orbit Period:</td>\n",
       "      <td>687 days (1.9 years)</td>\n",
       "    </tr>\n",
       "    <tr>\n",
       "      <th>6</th>\n",
       "      <td>Surface Temperature:</td>\n",
       "      <td>-153 to 20 °C</td>\n",
       "    </tr>\n",
       "    <tr>\n",
       "      <th>7</th>\n",
       "      <td>First Record:</td>\n",
       "      <td>2nd millennium BC</td>\n",
       "    </tr>\n",
       "    <tr>\n",
       "      <th>8</th>\n",
       "      <td>Recorded By:</td>\n",
       "      <td>Egyptian astronomers</td>\n",
       "    </tr>\n",
       "  </tbody>\n",
       "</table>\n",
       "</div>"
      ],
      "text/plain": [
       "                      0                              1\n",
       "0  Equatorial Diameter:                       6,792 km\n",
       "1       Polar Diameter:                       6,752 km\n",
       "2                 Mass:  6.42 x 10^23 kg (10.7% Earth)\n",
       "3                Moons:            2 (Phobos & Deimos)\n",
       "4       Orbit Distance:       227,943,824 km (1.52 AU)\n",
       "5         Orbit Period:           687 days (1.9 years)\n",
       "6  Surface Temperature:                  -153 to 20 °C\n",
       "7         First Record:              2nd millennium BC\n",
       "8          Recorded By:           Egyptian astronomers"
      ]
     },
     "execution_count": 8,
     "metadata": {},
     "output_type": "execute_result"
    }
   ],
   "source": [
    "mfacts_df.rename(columns={'0':'Description'})"
   ]
  },
  {
   "cell_type": "code",
   "execution_count": 13,
   "metadata": {},
   "outputs": [
    {
     "data": {
      "text/plain": [
       "'<table border=\"1\" class=\"dataframe\">  <tbody>    <tr>      <td>Equatorial Diameter:</td>      <td>6,792 km</td>    </tr>    <tr>      <td>Polar Diameter:</td>      <td>6,752 km</td>    </tr>    <tr>      <td>Mass:</td>      <td>6.42 x 10^23 kg (10.7% Earth)</td>    </tr>    <tr>      <td>Moons:</td>      <td>2 (Phobos &amp; Deimos)</td>    </tr>    <tr>      <td>Orbit Distance:</td>      <td>227,943,824 km (1.52 AU)</td>    </tr>    <tr>      <td>Orbit Period:</td>      <td>687 days (1.9 years)</td>    </tr>    <tr>      <td>Surface Temperature:</td>      <td>-153 to 20 °C</td>    </tr>    <tr>      <td>First Record:</td>      <td>2nd millennium BC</td>    </tr>    <tr>      <td>Recorded By:</td>      <td>Egyptian astronomers</td>    </tr>  </tbody></table>'"
      ]
     },
     "execution_count": 13,
     "metadata": {},
     "output_type": "execute_result"
    }
   ],
   "source": [
    "table_html = mfacts_df.to_html(index=False, header=False)\n",
    "table_html = str(table_html).replace('\\n','') #For unclear reasons, strip declined to remove the \\n tags, the replace method was substituted.\n",
    "table_html"
   ]
  },
  {
   "cell_type": "markdown",
   "metadata": {},
   "source": [
    "   ## USGS Astrogeology"
   ]
  },
  {
   "cell_type": "code",
   "execution_count": 22,
   "metadata": {},
   "outputs": [],
   "source": [
    "root_url='https://astrogeology.usgs.gov'\n",
    "browser.visit(root_url + '/search/results?q=hemisphere+enhanced&k1=target&v1=Mars')\n",
    "time.sleep(3)\n",
    "usgs_results_html = browser.html\n",
    "usgs_results_soup = bs(usgs_results_html, \"html.parser\")"
   ]
  },
  {
   "cell_type": "code",
   "execution_count": 23,
   "metadata": {},
   "outputs": [],
   "source": [
    "def usgs_findlink(html):\n",
    "    \"\"\"Takes HTML from https://astrogeology.usgs.gov/ hemisphere search results\"\"\"\n",
    "    \"\"\"returns a dictionary with {title:<title>, img_url:<url>\"\"\"\n",
    "    lsoup = bs(html, \"html.parser\")\n",
    "    dl_links = lsoup.find('div', class_='downloads')  #Gets everything in the 'downloads' div\n",
    "    for item in dl_links.find_all('li'):  #loops through the links looking for the 'sample' - my browser wouldn't load the original because of 'tif' format\n",
    "        if (item.a.get_text()) == 'Sample':\n",
    "            img_url = item.a['href']\n",
    "            break\n",
    "    lastchar = lsoup.title.text.find(' Enhanced') #Finds the char number of the space before the word enhanced - \n",
    "    #which comes after the hemisphere name in the HTML title\n",
    "    title = lsoup.title.text[:lastchar] #slices the HTML title up to that character number\n",
    "    out_dict = {\"title\": title, \"img_url\": img_url}\n",
    "    return out_dict"
   ]
  },
  {
   "cell_type": "code",
   "execution_count": 24,
   "metadata": {},
   "outputs": [
    {
     "data": {
      "text/plain": [
       "[{'title': 'Cerberus Hemisphere',\n",
       "  'img_url': 'http://astropedia.astrogeology.usgs.gov/download/Mars/Viking/cerberus_enhanced.tif/full.jpg'},\n",
       " {'title': 'Schiaparelli Hemisphere',\n",
       "  'img_url': 'http://astropedia.astrogeology.usgs.gov/download/Mars/Viking/schiaparelli_enhanced.tif/full.jpg'},\n",
       " {'title': 'Syrtis Major Hemisphere',\n",
       "  'img_url': 'http://astropedia.astrogeology.usgs.gov/download/Mars/Viking/syrtis_major_enhanced.tif/full.jpg'},\n",
       " {'title': 'Valles Marineris Hemisphere',\n",
       "  'img_url': 'http://astropedia.astrogeology.usgs.gov/download/Mars/Viking/valles_marineris_enhanced.tif/full.jpg'}]"
      ]
     },
     "execution_count": 24,
     "metadata": {},
     "output_type": "execute_result"
    }
   ],
   "source": [
    "hemisphere_image_urls = [] #This will contain the dictionaries requested by the assignment\n",
    "linklist = [] #this will contain relative path URLs that will be extracted from the soup\n",
    "astrogeo_items = usgs_results_soup.find_all('div', class_='item')\n",
    "\n",
    "#Gather up the addresses we need to scrape\n",
    "for item in astrogeo_items: \n",
    "    linklist.append(item.a['href'])\n",
    "\n",
    "#Loop through and get the data from each one, using the function we just made\n",
    "for link in linklist:\n",
    "    browser.visit(root_url + link)\n",
    "    time.sleep(4)\n",
    "    lhtml = browser.html\n",
    "    hemisphere_image_urls.append(usgs_findlink(lhtml))\n",
    "hemisphere_image_urls"
   ]
  },
  {
   "cell_type": "code",
   "execution_count": 18,
   "metadata": {},
   "outputs": [
    {
     "name": "stdout",
     "output_type": "stream",
     "text": [
      "http://astropedia.astrogeology.usgs.gov/download/Mars/Viking/cerberus_enhanced.tif/full.jpg\n"
     ]
    }
   ],
   "source": [
    "\n",
    "        "
   ]
  },
  {
   "cell_type": "code",
   "execution_count": null,
   "metadata": {},
   "outputs": [],
   "source": []
  },
  {
   "cell_type": "code",
   "execution_count": null,
   "metadata": {},
   "outputs": [],
   "source": []
  }
 ],
 "metadata": {
  "kernelspec": {
   "display_name": "Python 3",
   "language": "python",
   "name": "python3"
  },
  "language_info": {
   "codemirror_mode": {
    "name": "ipython",
    "version": 3
   },
   "file_extension": ".py",
   "mimetype": "text/x-python",
   "name": "python",
   "nbconvert_exporter": "python",
   "pygments_lexer": "ipython3",
   "version": "3.6.5"
  }
 },
 "nbformat": 4,
 "nbformat_minor": 2
}
